{
 "cells": [
  {
   "cell_type": "code",
   "execution_count": 91,
   "metadata": {},
   "outputs": [],
   "source": [
    "import requests\n",
    "import json\n",
    "import datetime"
   ]
  },
  {
   "cell_type": "code",
   "execution_count": 92,
   "metadata": {},
   "outputs": [],
   "source": [
    "url=\"https://gitlab.com/-/snippets/2067888/raw/master/sample_json_1.json\"\n",
    "result=requests.get(url).json()\n",
    "shift_a=[0,0]\n",
    "shift_b=[0,0]\n",
    "shift_c=[0,0]\n",
    "t1=datetime.datetime.strptime(\"2021-01-28T00:30:00Z\",'%Y-%m-%dT%H:%M:%SZ')\n",
    "t1=t1.time()\n",
    "t2=datetime.datetime.strptime(\"2021-01-28T8:30:00Z\",'%Y-%m-%dT%H:%M:%SZ')\n",
    "t2=t2.time()\n",
    "t3=datetime.datetime.strptime(\"2021-01-28T14:30:00Z\",'%Y-%m-%dT%H:%M:%SZ')\n",
    "t3=t3.time()"
   ]
  },
  {
   "cell_type": "code",
   "execution_count": 93,
   "metadata": {},
   "outputs": [
    {
     "name": "stdout",
     "output_type": "stream",
     "text": [
      "2021-01-28T07:30:00Z\n",
      "2021-01-28T13:30:00Z\n"
     ]
    }
   ],
   "source": [
    "start=input()\n",
    "end=input()\n",
    "start=datetime.datetime.strptime(start,'%Y-%m-%dT%H:%M:%SZ')\n",
    "end=datetime.datetime.strptime(end,'%Y-%m-%dT%H:%M:%SZ')"
   ]
  },
  {
   "cell_type": "code",
   "execution_count": 94,
   "metadata": {},
   "outputs": [],
   "source": [
    "for data in result:\n",
    "    t=datetime.datetime.strptime(data['time'],'%Y-%m-%d %H:%M:%S')\n",
    "    if(t>=start and t<=end):\n",
    "        if(t.time()>=t1 and t.time()<=t2):\n",
    "            if(data[\"production_A\"]==True):\n",
    "                shift_a[0]=shift_a[0]+1\n",
    "            if(data[\"production_B\"]==True):\n",
    "                shift_a[1]=shift_a[1]+1\n",
    "        elif(t.time()>=t2 and t.time()<=t3):\n",
    "            if(data[\"production_A\"]==True):\n",
    "                shift_b[0]=shift_b[0]+1\n",
    "            if(data[\"production_B\"]==True):\n",
    "                shift_b[1]=shift_b[1]+1\n",
    "\n",
    "        elif(t.time()>=t3 and t.time()<=t1):\n",
    "            if(data[\"production_A\"]==True):\n",
    "                shift_c[0]=shift_c[0]+1\n",
    "            if(data[\"production_B\"]==True):\n",
    "                shift_c[1]=shift_c[1]+1\n",
    "    "
   ]
  },
  {
   "cell_type": "code",
   "execution_count": 95,
   "metadata": {},
   "outputs": [
    {
     "name": "stdout",
     "output_type": "stream",
     "text": [
      "[2, 3]\n",
      "[9, 7]\n",
      "[0, 0]\n"
     ]
    }
   ],
   "source": [
    "print(shift_a)\n",
    "print(shift_b)\n",
    "print(shift_c)"
   ]
  },
  {
   "cell_type": "code",
   "execution_count": 96,
   "metadata": {},
   "outputs": [],
   "source": [
    "temp={}\n",
    "temp[\"shiftA\"]={\"production_A_count\":shift_a[0],\"production_B_count\":shift_a[1]}\n",
    "temp[\"shiftB\"]={\"production_A_count\":shift_b[0],\"production_B_count\":shift_b[1]}\n",
    "temp[\"shiftC\"]={\"production_A_count\":shift_c[0],\"production_B_count\":shift_c[1]}"
   ]
  },
  {
   "cell_type": "code",
   "execution_count": 97,
   "metadata": {},
   "outputs": [
    {
     "data": {
      "text/plain": [
       "{'shiftA': {'production_A_count': 2, 'production_B_count': 3},\n",
       " 'shiftB': {'production_A_count': 9, 'production_B_count': 7},\n",
       " 'shiftC': {'production_A_count': 0, 'production_B_count': 0}}"
      ]
     },
     "execution_count": 97,
     "metadata": {},
     "output_type": "execute_result"
    }
   ],
   "source": [
    "temp"
   ]
  },
  {
   "cell_type": "code",
   "execution_count": 98,
   "metadata": {},
   "outputs": [],
   "source": [
    "ans=json.dumps(temp)"
   ]
  },
  {
   "cell_type": "code",
   "execution_count": 99,
   "metadata": {},
   "outputs": [
    {
     "data": {
      "text/plain": [
       "'{\"shiftA\": {\"production_A_count\": 2, \"production_B_count\": 3}, \"shiftB\": {\"production_A_count\": 9, \"production_B_count\": 7}, \"shiftC\": {\"production_A_count\": 0, \"production_B_count\": 0}}'"
      ]
     },
     "execution_count": 99,
     "metadata": {},
     "output_type": "execute_result"
    }
   ],
   "source": [
    "ans"
   ]
  },
  {
   "cell_type": "code",
   "execution_count": null,
   "metadata": {},
   "outputs": [],
   "source": []
  }
 ],
 "metadata": {
  "kernelspec": {
   "display_name": "Python 3",
   "language": "python",
   "name": "python3"
  },
  "language_info": {
   "codemirror_mode": {
    "name": "ipython",
    "version": 3
   },
   "file_extension": ".py",
   "mimetype": "text/x-python",
   "name": "python",
   "nbconvert_exporter": "python",
   "pygments_lexer": "ipython3",
   "version": "3.6.5"
  }
 },
 "nbformat": 4,
 "nbformat_minor": 2
}
